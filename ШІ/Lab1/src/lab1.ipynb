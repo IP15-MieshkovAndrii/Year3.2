{
 "cells": [
  {
   "cell_type": "markdown",
   "id": "d452fee4-fd58-46fd-b585-bd179a144394",
   "metadata": {},
   "source": [
    "# Лабораторна робота №1"
   ]
  },
  {
   "cell_type": "code",
   "execution_count": null,
   "id": "dd31bb68-8fdd-4c39-bf47-9db289e3369e",
   "metadata": {},
   "outputs": [],
   "source": [
    "import numpy as np\n",
    "from keras.datasets import cifar10\n",
    "from keras.models import Sequential\n",
    "from keras.layers import Dense, Dropout, Activation, Flatten\n",
    "from tensorflow.keras.utils import to_categorical"
   ]
  },
  {
   "cell_type": "code",
   "execution_count": null,
   "id": "2b67df84-0dc2-4af9-b528-e86e7bd9d40a",
   "metadata": {},
   "outputs": [],
   "source": [
    "(x_train, y_train), (x_test, y_test) = cifar10.load_data()\n",
    "\n",
    "# Нормалізація даних\n",
    "x_train = x_train.astype('float32') / 255.0\n",
    "x_test = x_test.astype('float32') / 255.0\n",
    "\n",
    "y_train = to_categorical(y_train, 10)\n",
    "y_test = to_categorical(y_test, 10)"
   ]
  },
  {
   "cell_type": "code",
   "execution_count": null,
   "id": "64f2b918-17af-4c66-a425-5c9cb0b71db2",
   "metadata": {},
   "outputs": [],
   "source": [
    "model = Sequential([\n",
    "        Flatten(input_shape=(32, 32, 3)),\n",
    "        Dense(512, activation='relu'),\n",
    "        Dense(256, activation='relu'),\n",
    "        Dense(10, activation='softmax')\n",
    "    ])"
   ]
  },
  {
   "cell_type": "code",
   "execution_count": null,
   "id": "2a6a7922-bbcd-4953-b4d7-6f10cdee2b67",
   "metadata": {},
   "outputs": [],
   "source": [
    "model.compile(optimizer='adam',\n",
    "              loss='categorical_crossentropy',\n",
    "              metrics=['accuracy'])\n"
   ]
  },
  {
   "cell_type": "code",
   "execution_count": null,
   "id": "b2622db2-8334-4a7f-a84a-566264554e03",
   "metadata": {},
   "outputs": [],
   "source": [
    "model.fit(x_train, y_train,\n",
    "          batch_size=64,\n",
    "          epochs=10,\n",
    "          validation_data=(x_test, y_test),\n",
    "          shuffle=True,\n",
    "          verbose=0)"
   ]
  },
  {
   "cell_type": "code",
   "execution_count": null,
   "id": "269dc6bc-c2ec-48df-a293-88645e318bf8",
   "metadata": {},
   "outputs": [],
   "source": [
    "score = model.evaluate(x_test, y_test, verbose=0)\n",
    "print('Test loss:', score[0])\n",
    "print('Test accuracy:', score[1])\n"
   ]
  },
  {
   "cell_type": "code",
   "execution_count": null,
   "id": "767b7eef-b37c-4808-8c48-c9675bb42a2e",
   "metadata": {},
   "outputs": [],
   "source": [
    "model = Sequential([\n",
    "        Flatten(input_shape=(32, 32, 3)),\n",
    "        Dense(256, activation='relu'),\n",
    "        Dense(128, activation='relu'),\n",
    "        Dense(10, activation='softmax')\n",
    "    ])"
   ]
  },
  {
   "cell_type": "code",
   "execution_count": null,
   "id": "7a80f11a-f153-45c6-8a2a-33f2ad0abc88",
   "metadata": {},
   "outputs": [],
   "source": [
    "model.compile(optimizer='adam',\n",
    "              loss='categorical_crossentropy',\n",
    "              metrics=['accuracy'])"
   ]
  },
  {
   "cell_type": "code",
   "execution_count": null,
   "id": "7aed3283-5c50-4c30-9cc6-3a702829284b",
   "metadata": {},
   "outputs": [],
   "source": [
    "history = model.fit(x_train, y_train,\n",
    "                    batch_size=64,\n",
    "                    epochs=10,\n",
    "                    validation_data=(x_test, y_test),\n",
    "                    shuffle=True,\n",
    "                    verbose=0)"
   ]
  },
  {
   "cell_type": "code",
   "execution_count": null,
   "id": "340d5a54-e4be-434d-9f47-ae2b5996e911",
   "metadata": {},
   "outputs": [],
   "source": [
    "score = model.evaluate(x_test, y_test, verbose=0)\n",
    "print('Test loss:', score[0])\n",
    "print('Test accuracy:', score[1])\n",
    "\n",
    "score = model.evaluate(x_train, y_train, verbose=0)\n",
    "print('Test loss:', score[0])\n",
    "print('Test accuracy:', score[1])"
   ]
  },
  {
   "cell_type": "code",
   "execution_count": null,
   "id": "30f6f99f-d702-4667-9ca9-b9481d0a8230",
   "metadata": {},
   "outputs": [],
   "source": [
    "from numpy import bincount, argmax\n",
    "\n",
    "y_test_labels = argmax(y_test, axis=1)\n",
    "\n",
    "most_frequent_class = argmax(bincount(y_test_labels))\n",
    "\n",
    "null_accuracy = (y_test_labels == most_frequent_class).mean()\n",
    "\n",
    "print(f\"Найчастіше зустрічаємий клас: {most_frequent_class}\")\n",
    "print(f\"Null accuracy: {null_accuracy:.2f}\")"
   ]
  },
  {
   "cell_type": "code",
   "execution_count": null,
   "id": "ca762516-f66f-4ca4-a561-da784e012bb5",
   "metadata": {
    "scrolled": true
   },
   "outputs": [],
   "source": [
    "import matplotlib.pyplot as plt\n",
    "\n",
    "# Отримання значень точності та втрат з історії\n",
    "acc = history.history['accuracy']\n",
    "val_acc = history.history['val_accuracy']\n",
    "loss = history.history['loss']\n",
    "val_loss = history.history['val_loss']\n",
    "\n",
    "epochs = range(1, len(acc) + 1)\n",
    "\n",
    "# Графік точності\n",
    "plt.figure(figsize=(12, 5))\n",
    "plt.subplot(1, 2, 1)\n",
    "plt.plot(epochs, acc, 'bo', label='Тренувальна точність')\n",
    "plt.plot(epochs, val_acc, 'b', label='Валідаційна точність')\n",
    "plt.title('Точність тренування та валідації')\n",
    "plt.xlabel('Епохи')\n",
    "plt.ylabel('Точність')\n",
    "plt.legend()\n",
    "\n",
    "# Графік втрат\n",
    "plt.subplot(1, 2, 2)\n",
    "plt.plot(epochs, loss, 'bo', label='Тренувальні втрати')\n",
    "plt.plot(epochs, val_loss, 'b', label='Валідаційні втрати')\n",
    "plt.title('Втрати тренування та валідації')\n",
    "plt.xlabel('Епохи')\n",
    "plt.ylabel('Втрати')\n",
    "plt.legend()\n",
    "\n",
    "plt.tight_layout()\n",
    "plt.show()"
   ]
  },
  {
   "cell_type": "code",
   "execution_count": null,
   "id": "a9c2325b-4c25-4dec-9a0c-3e529d3550e3",
   "metadata": {},
   "outputs": [],
   "source": [
    "# Аналіз ознак перенавчання\n",
    "if val_acc[-1] < acc[-1] - 0.05: # гнучка умова\n",
    "    print(\"Можливе перенавчання: валідаційна точність значно нижча за тренувальну.\")\n",
    "elif val_loss[-1] > loss[-1] + 0.05: # гнучка умова\n",
    "    print(\"Можливе перенавчання: валідаційні втрати значно вищі за тренувальні.\")\n",
    "else:\n",
    "    print(\"Перенавчання не виявлено.\")"
   ]
  },
  {
   "cell_type": "code",
   "execution_count": null,
   "id": "f3b34469-3076-4ab5-967c-250e17afaba8",
   "metadata": {},
   "outputs": [],
   "source": [
    "model = Sequential([\n",
    "        Flatten(input_shape=(32, 32, 3)),\n",
    "        Dense(128, activation='relu'),\n",
    "        Dense(64, activation='relu'),\n",
    "        Dense(10, activation='softmax')\n",
    "    ])"
   ]
  },
  {
   "cell_type": "code",
   "execution_count": null,
   "id": "13b99ea2-9276-4aa1-b3d5-510d9285ad2e",
   "metadata": {},
   "outputs": [],
   "source": [
    "model.compile(optimizer='adam',\n",
    "              loss='categorical_crossentropy',\n",
    "              metrics=['accuracy'])"
   ]
  },
  {
   "cell_type": "code",
   "execution_count": null,
   "id": "113f3a77-f110-4bf1-8c60-b9ba9db6e3c6",
   "metadata": {},
   "outputs": [],
   "source": [
    "model.fit(x_train, y_train,\n",
    "          batch_size=64,\n",
    "          epochs=10,\n",
    "          validation_data=(x_test, y_test),\n",
    "          shuffle=True,\n",
    "          verbose=0)"
   ]
  },
  {
   "cell_type": "code",
   "execution_count": null,
   "id": "fb8b017b-0f0f-4383-b552-f9b9037b404b",
   "metadata": {},
   "outputs": [],
   "source": [
    "score = model.evaluate(x_test, y_test, verbose=0)\n",
    "print('Test loss:', score[0])\n",
    "print('Test accuracy:', score[1])"
   ]
  },
  {
   "cell_type": "code",
   "execution_count": null,
   "id": "5ff2cb85-716e-45f4-af6d-73f295419552",
   "metadata": {},
   "outputs": [],
   "source": [
    "# Функція для створення моделі, приймає гіперпараметри як аргументи\n",
    "def create_model(optimizer='adam'):\n",
    "    model = Sequential([\n",
    "        Flatten(input_shape=(32, 32, 3)),\n",
    "        Dense(256, activation='relu'),\n",
    "        Dense(128, activation='relu'),\n",
    "        Dense(10, activation='softmax')\n",
    "    ])\n",
    "    model.compile(optimizer=optimizer, loss='categorical_crossentropy', metrics=['accuracy'])\n",
    "    return model"
   ]
  },
  {
   "cell_type": "code",
   "execution_count": null,
   "id": "5b70c8c6-931e-4229-90cd-c85c1b36d524",
   "metadata": {},
   "outputs": [],
   "source": [
    "from scikeras.wrappers import KerasClassifier\n",
    "from sklearn.model_selection import GridSearchCV\n",
    "\n",
    "model = KerasClassifier(model=create_model, epochs=10, batch_size=64, verbose=0)\n",
    "\n",
    "param_grid = {\n",
    "    'model__optimizer': ['adam', 'rmsprop'],\n",
    "    'batch_size': [64],\n",
    "    'epochs': [5]\n",
    "}\n",
    "\n",
    "grid = GridSearchCV(estimator=model, param_grid=param_grid, scoring='accuracy', cv=2, verbose=2)\n",
    "grid_result = grid.fit(x_train, y_train)\n",
    "\n",
    "print(\"Найкращий результат: %f з використанням %s\" % (grid_result.best_score_, grid_result.best_params_))\n"
   ]
  }
 ],
 "metadata": {
  "kernelspec": {
   "display_name": "Python 3 (ipykernel)",
   "language": "python",
   "name": "python3"
  },
  "language_info": {
   "codemirror_mode": {
    "name": "ipython",
    "version": 3
   },
   "file_extension": ".py",
   "mimetype": "text/x-python",
   "name": "python",
   "nbconvert_exporter": "python",
   "pygments_lexer": "ipython3",
   "version": "3.11.5"
  }
 },
 "nbformat": 4,
 "nbformat_minor": 5
}
