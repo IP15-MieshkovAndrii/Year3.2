{
  "nbformat": 4,
  "nbformat_minor": 0,
  "metadata": {
    "colab": {
      "provenance": []
    },
    "kernelspec": {
      "name": "python3",
      "display_name": "Python 3"
    },
    "language_info": {
      "name": "python"
    }
  },
  "cells": [
    {
      "cell_type": "markdown",
      "source": [
        "# Базовий фреймворк для задач задоволення обмежень"
      ],
      "metadata": {
        "id": "ENXwfZndcc4D"
      }
    },
    {
      "cell_type": "markdown",
      "source": [
        "Базова модель задачі задоволення обмежень:"
      ],
      "metadata": {
        "id": "cU6aG_tpcEKU"
      }
    },
    {
      "cell_type": "code",
      "execution_count": 7,
      "metadata": {
        "id": "h5iBKt3wqje8"
      },
      "outputs": [],
      "source": [
        "\n",
        "from typing import Generic, TypeVar, Dict, List, Optional\n",
        "from abc import ABC, abstractmethod\n",
        "\n",
        "V = TypeVar('V')\n",
        "D = TypeVar('D')\n",
        "\n",
        "\n",
        "class Constraint(Generic[V, D], ABC):\n",
        "    def __init__(self, variables: List[V]) -> None:\n",
        "        self.variables = variables\n",
        "\n",
        "    @abstractmethod\n",
        "    def satisfied(self, assignment: Dict[V, D]) -> bool:\n",
        "        ...\n",
        "\n",
        "class CSP(Generic[V, D]):\n",
        "    def __init__(self, variables: List[V], domains: Dict[V, List[D]]) -> None:\n",
        "        self.variables: List[V] = variables # variables to be constrained\n",
        "        self.domains: Dict[V, List[D]] = domains # domain of each variable\n",
        "        self.constraints: Dict[V, List[Constraint[V, D]]] = {}\n",
        "        for variable in self.variables:\n",
        "            self.constraints[variable] = []\n",
        "            if variable not in self.domains:\n",
        "                raise LookupError(\"Every variable should have a domain assigned to it.\")\n",
        "\n",
        "    def add_constraint(self, constraint: Constraint[V, D]) -> None:\n",
        "        for variable in constraint.variables:\n",
        "            if variable not in self.variables:\n",
        "                raise LookupError(\"Variable in constraint not in CSP\")\n",
        "            else:\n",
        "                self.constraints[variable].append(constraint)\n",
        "\n",
        "    def consistent(self, variable: V, assignment: Dict[V, D]) -> bool:\n",
        "        for constraint in self.constraints[variable]:\n",
        "            if not constraint.satisfied(assignment):\n",
        "                return False\n",
        "        return True\n",
        "    def backtracking_search(self, assignment: Dict[V, D] = {}) -> Optional[Dict[V, D]]:\n",
        "        if len(assignment) == len(self.variables):\n",
        "            return assignment\n",
        "\n",
        "        unassigned: List[V] = [v for v in self.variables if v not in assignment]\n",
        "\n",
        "        first: V = unassigned[0]\n",
        "        for value in self.domains[first]:\n",
        "            local_assignment = assignment.copy()\n",
        "            local_assignment[first] = value\n",
        "            if self.consistent(first, local_assignment):\n",
        "                result: Optional[Dict[V, D]] = self.backtracking_search(local_assignment)\n",
        "                if result is not None:\n",
        "                    return result\n",
        "        return None\n"
      ]
    },
    {
      "cell_type": "markdown",
      "source": [
        "Базовий метод - пошук з поверненнями(backtracking):"
      ],
      "metadata": {
        "id": "I4ocqacEbfzR"
      }
    },
    {
      "cell_type": "code",
      "source": [
        "import random\n",
        "from typing import Tuple\n",
        "\n",
        "class CSPWithMCV(CSP[V, D]):\n",
        "    def select_unassigned_variable(self, assignment: Dict[V, D]) -> V:\n",
        "        unassigned: List[V] = [v for v in self.variables if v not in assignment]\n",
        "        return min(unassigned, key=lambda var: len(self.domains[var]))\n",
        "\n",
        "    def backtracking_search_with_mcv(self, assignment: Dict[V, D] = {}) -> Optional[Dict[V, D]]:\n",
        "        if len(assignment) == len(self.variables):\n",
        "            return assignment\n",
        "\n",
        "        var = self.select_unassigned_variable(assignment)\n",
        "        for value in self.domains[var]:\n",
        "            local_assignment = assignment.copy()\n",
        "            local_assignment[var] = value\n",
        "            if self.consistent(var, local_assignment):\n",
        "                result: Optional[Dict[V, D]] = self.backtracking_search_with_mcv(local_assignment)\n",
        "                if result is not None:\n",
        "                    return result\n",
        "        return None\n",
        "\n",
        "def solve_n_queens_with_mcv(size: int):\n",
        "    columns = list(range(size))\n",
        "    domains = {col: list(range(size)) for col in columns}\n",
        "    csp = CSPWithMCV(columns, domains)\n",
        "    csp.add_constraint(QueensConstraint(columns))\n",
        "    solution = csp.backtracking_search_with_mcv()\n",
        "    return solution\n",
        "\n",
        "\n",
        "# for size in [8, 12, 16]:\n",
        "#     print(f\"Solving {size}x{size} board with MCV...\")\n",
        "#     solution = solve_n_queens_with_mcv(size)\n",
        "#     print(f\"Solution for {size}x{size} board: {solution}\")\n"
      ],
      "metadata": {
        "id": "3vcW5C3LbfSH"
      },
      "execution_count": 8,
      "outputs": []
    },
    {
      "cell_type": "markdown",
      "source": [
        "Повертається перше знайдене рішення!"
      ],
      "metadata": {
        "id": "GzuFwt1BbtLM"
      }
    },
    {
      "cell_type": "code",
      "source": [
        "import random\n",
        "from typing import List, Tuple\n",
        "\n",
        "def fitness(assignment: List[int]) -> int:\n",
        "    attacking_pairs = 0\n",
        "    n = len(assignment)\n",
        "    for i in range(n):\n",
        "        for j in range(i + 1, n):\n",
        "            if assignment[i] == assignment[j] or abs(assignment[i] - assignment[j]) == abs(i - j):\n",
        "                attacking_pairs += 1\n",
        "    return attacking_pairs\n",
        "\n",
        "def initialize_population(pop_size: int, n: int) -> List[List[int]]:\n",
        "    return [random.sample(range(n), n) for _ in range(pop_size)]\n",
        "\n",
        "def select(population: List[List[int]], fitnesses: List[int], k: int) -> List[List[int]]:\n",
        "    selected = random.choices(population, weights=[1/f for f in fitnesses], k=k)\n",
        "    return selected\n",
        "\n",
        "def crossover(parent1: List[int], parent2: List[int]) -> Tuple[List[int], List[int]]:\n",
        "    n = len(parent1)\n",
        "    crossover_point = random.randint(1, n - 1)\n",
        "    child1 = parent1[:crossover_point] + parent2[crossover_point:]\n",
        "    child2 = parent2[:crossover_point] + parent1[crossover_point:]\n",
        "    return child1, child2\n",
        "\n",
        "def mutate(solution: List[int], mutation_rate: float) -> List[int]:\n",
        "    n = len(solution)\n",
        "    if random.random() < mutation_rate:\n",
        "        i, j = random.sample(range(n), 2)\n",
        "        solution[i], solution[j] = solution[j], solution[i]\n",
        "    return solution\n",
        "\n",
        "def genetic_algorithm(n: int, pop_size: int, generations: int, mutation_rate: float) -> List[int]:\n",
        "    population = initialize_population(pop_size, n)\n",
        "    best_solution = None\n",
        "    best_fitness = float('inf')\n",
        "\n",
        "    for generation in range(generations):\n",
        "        fitnesses = [fitness(sol) for sol in population]\n",
        "        best_idx = fitnesses.index(min(fitnesses))\n",
        "        if fitnesses[best_idx] < best_fitness:\n",
        "            best_fitness = fitnesses[best_idx]\n",
        "            best_solution = population[best_idx]\n",
        "\n",
        "        if best_fitness == 0:\n",
        "            break\n",
        "\n",
        "        selected = select(population, fitnesses, pop_size // 2)\n",
        "        next_generation = []\n",
        "\n",
        "        while len(next_generation) < pop_size:\n",
        "            parent1, parent2 = random.sample(selected, 2)\n",
        "            child1, child2 = crossover(parent1, parent2)\n",
        "            next_generation.append(mutate(child1, mutation_rate))\n",
        "            next_generation.append(mutate(child2, mutation_rate))\n",
        "\n",
        "        population = next_generation\n",
        "\n",
        "    return best_solution\n"
      ],
      "metadata": {
        "id": "YO3AVx4I50m0"
      },
      "execution_count": 16,
      "outputs": []
    },
    {
      "cell_type": "markdown",
      "source": [
        "# Задача з ферзями"
      ],
      "metadata": {
        "id": "DMG9DvpvaZWy"
      }
    },
    {
      "cell_type": "markdown",
      "source": [
        "Реалізація обмеження задачі:"
      ],
      "metadata": {
        "id": "fZ3MdVZzarbG"
      }
    },
    {
      "cell_type": "code",
      "source": [
        "class QueensConstraint(Constraint[int, int]):\n",
        "    def __init__(self, columns: List[int]) -> None:\n",
        "        super().__init__(columns)\n",
        "        self.columns: List[int] = columns\n",
        "\n",
        "    def satisfied(self, assignment: Dict[int, int]) -> bool:\n",
        "        for q1c, q1r in assignment.items():\n",
        "            for q2c in range(q1c + 1, len(self.columns) + 1):\n",
        "                if q2c in assignment:\n",
        "                    q2r: int = assignment[q2c]\n",
        "                    if q1r == q2r:\n",
        "                        return False\n",
        "                    if abs(q1r - q2r) == abs(q1c - q2c):\n",
        "                        return False\n",
        "        return True"
      ],
      "metadata": {
        "id": "_AB5A_fgqu55"
      },
      "execution_count": 10,
      "outputs": []
    },
    {
      "cell_type": "markdown",
      "source": [
        "Рішення:"
      ],
      "metadata": {
        "id": "eaABKhDFbGZz"
      }
    },
    {
      "cell_type": "code",
      "source": [
        "import time\n",
        "\n",
        "# Function to compare all three algorithms\n",
        "def compare_algorithms():\n",
        "    for size in [8, 12, 16, 20]:\n",
        "        print(f\"\\nSolving {size}x{size} board:\")\n",
        "\n",
        "        # Simple Backtracking\n",
        "        start_time = time.time()\n",
        "        simple_csp = CSP(list(range(size)), {i: list(range(size)) for i in range(size)})\n",
        "        simple_csp.add_constraint(QueensConstraint(list(range(size))))\n",
        "        simple_solution = simple_csp.backtracking_search()\n",
        "        simple_time = time.time() - start_time\n",
        "        print(f\"Simple Backtracking Solution: {simple_solution} (Time: {simple_time:.4f} seconds)\")\n",
        "\n",
        "        # Backtracking with MCV\n",
        "        start_time = time.time()\n",
        "        mcv_solution = solve_n_queens_with_mcv(size)\n",
        "        mcv_time = time.time() - start_time\n",
        "        print(f\"MCV Solution: {mcv_solution} (Time: {mcv_time:.4f} seconds)\")\n",
        "\n",
        "        # Genetic Algorithm\n",
        "        start_time = time.time()\n",
        "        ga_solution = genetic_algorithm(size, pop_size=100, generations=1000, mutation_rate=0.05)\n",
        "        ga_time = time.time() - start_time\n",
        "        ga_fitness = fitness(ga_solution)\n",
        "        print(f\"GA Solution: {ga_solution} (Fitness: {ga_fitness}, Time: {ga_time:.4f} seconds)\")\n",
        "\n",
        "# Run the comparison\n",
        "compare_algorithms()\n"
      ],
      "metadata": {
        "id": "staBba5pq6pH",
        "colab": {
          "base_uri": "https://localhost:8080/"
        },
        "outputId": "1bfd9336-72cc-4d76-d9b2-87e49f10a85f"
      },
      "execution_count": 17,
      "outputs": [
        {
          "output_type": "stream",
          "name": "stdout",
          "text": [
            "\n",
            "Solving 8x8 board:\n",
            "Simple Backtracking Solution: {0: 0, 1: 4, 2: 7, 3: 5, 4: 2, 5: 6, 6: 1, 7: 3} (Time: 0.0108 seconds)\n",
            "MCV Solution: {0: 0, 1: 4, 2: 7, 3: 5, 4: 2, 5: 6, 6: 1, 7: 3} (Time: 0.0094 seconds)\n",
            "GA Solution: [3, 6, 0, 7, 4, 1, 5, 2] (Fitness: 0, Time: 0.0565 seconds)\n",
            "\n",
            "Solving 12x12 board:\n",
            "Simple Backtracking Solution: {0: 0, 1: 2, 2: 4, 3: 7, 4: 9, 5: 11, 6: 5, 7: 10, 8: 1, 9: 6, 10: 8, 11: 3} (Time: 0.0252 seconds)\n",
            "MCV Solution: {0: 0, 1: 2, 2: 4, 3: 7, 4: 9, 5: 11, 6: 5, 7: 10, 8: 1, 9: 6, 10: 8, 11: 3} (Time: 0.0242 seconds)\n",
            "GA Solution: [10, 6, 4, 2, 0, 11, 7, 1, 3, 9, 5, 8] (Fitness: 1, Time: 2.1862 seconds)\n",
            "\n",
            "Solving 16x16 board:\n",
            "Simple Backtracking Solution: {0: 0, 1: 2, 2: 4, 3: 1, 4: 12, 5: 8, 6: 13, 7: 11, 8: 14, 9: 5, 10: 15, 11: 6, 12: 3, 13: 10, 14: 7, 15: 9} (Time: 2.8198 seconds)\n",
            "MCV Solution: {0: 0, 1: 2, 2: 4, 3: 1, 4: 12, 5: 8, 6: 13, 7: 11, 8: 14, 9: 5, 10: 15, 11: 6, 12: 3, 13: 10, 14: 7, 15: 9} (Time: 2.7632 seconds)\n",
            "GA Solution: [8, 12, 0, 13, 3, 6, 11, 1, 2, 9, 5, 15, 14, 10, 7, 4] (Fitness: 3, Time: 3.6084 seconds)\n",
            "\n",
            "Solving 20x20 board:\n",
            "Simple Backtracking Solution: {0: 0, 1: 2, 2: 4, 3: 1, 4: 3, 5: 12, 6: 14, 7: 11, 8: 17, 9: 19, 10: 16, 11: 8, 12: 15, 13: 18, 14: 7, 15: 9, 16: 6, 17: 13, 18: 5, 19: 10} (Time: 90.1345 seconds)\n",
            "MCV Solution: {0: 0, 1: 2, 2: 4, 3: 1, 4: 3, 5: 12, 6: 14, 7: 11, 8: 17, 9: 19, 10: 16, 11: 8, 12: 15, 13: 18, 14: 7, 15: 9, 16: 6, 17: 13, 18: 5, 19: 10} (Time: 88.8471 seconds)\n",
            "GA Solution: [12, 5, 13, 19, 9, 3, 15, 8, 18, 16, 10, 17, 4, 7, 1, 6, 2, 0, 11, 14] (Fitness: 5, Time: 6.4167 seconds)\n"
          ]
        }
      ]
    },
    {
      "cell_type": "code",
      "source": [],
      "metadata": {
        "id": "lA23s_FQbX3c"
      },
      "execution_count": null,
      "outputs": []
    }
  ]
}